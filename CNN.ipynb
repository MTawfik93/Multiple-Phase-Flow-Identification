{
  "nbformat": 4,
  "nbformat_minor": 0,
  "metadata": {
    "colab": {
      "name": "tawf.ipynb",
      "provenance": []
    },
    "kernelspec": {
      "name": "python3",
      "display_name": "Python 3"
    }
  },
  "cells": [
    {
      "cell_type": "code",
      "metadata": {
        "id": "O0xDyGRQFV7Q",
        "colab_type": "code",
        "outputId": "2a03024b-bb0b-4446-8cab-78fd60f7c772",
        "colab": {
          "base_uri": "https://localhost:8080/",
          "height": 122
        }
      },
      "source": [
        "from google.colab import drive\n",
        "drive.mount('/content/drive')"
      ],
      "execution_count": 0,
      "outputs": [
        {
          "output_type": "stream",
          "text": [
            "Go to this URL in a browser: https://accounts.google.com/o/oauth2/auth?client_id=947318989803-6bn6qk8qdgf4n4g3pfee6491hc0brc4i.apps.googleusercontent.com&redirect_uri=urn%3aietf%3awg%3aoauth%3a2.0%3aoob&response_type=code&scope=email%20https%3a%2f%2fwww.googleapis.com%2fauth%2fdocs.test%20https%3a%2f%2fwww.googleapis.com%2fauth%2fdrive%20https%3a%2f%2fwww.googleapis.com%2fauth%2fdrive.photos.readonly%20https%3a%2f%2fwww.googleapis.com%2fauth%2fpeopleapi.readonly\n",
            "\n",
            "Enter your authorization code:\n",
            "··········\n",
            "Mounted at /content/drive\n"
          ],
          "name": "stdout"
        }
      ]
    },
    {
      "cell_type": "code",
      "metadata": {
        "id": "z3JAhG0LF-Il",
        "colab_type": "code",
        "outputId": "2d321693-2a48-4b4a-981f-7a1131dce362",
        "colab": {
          "base_uri": "https://localhost:8080/",
          "height": 51
        }
      },
      "source": [
        "! ls drive/My\\ Drive/Flow\\ Identification\\ Data"
      ],
      "execution_count": 0,
      "outputs": [
        {
          "output_type": "stream",
          "text": [
            "'Annular 25 mm'  'Full Flow'  'Qtr Flow'\n",
            "'Annular 75 mm'  'Half Flow'  'Three Qtr Flow'\n"
          ],
          "name": "stdout"
        }
      ]
    },
    {
      "cell_type": "code",
      "metadata": {
        "id": "64XhcOCNGXPI",
        "colab_type": "code",
        "colab": {}
      },
      "source": [
        "BASE_BATH = r\"drive/My Drive/Flow Identification Data\""
      ],
      "execution_count": 0,
      "outputs": []
    },
    {
      "cell_type": "code",
      "metadata": {
        "id": "tkj8_H9R8sxy",
        "colab_type": "code",
        "colab": {}
      },
      "source": [
        "mapper = {'Annular 25 mm':0 , 'Full Flow':1 , 'Qtr Flow':2 , 'Annular 75 mm':3 , 'Half Flow':4 , 'Three Qtr Flow':5}"
      ],
      "execution_count": 0,
      "outputs": []
    },
    {
      "cell_type": "code",
      "metadata": {
        "id": "cNCpDGwyHfSS",
        "colab_type": "code",
        "colab": {}
      },
      "source": [
        "import os \n",
        "import cv2\n",
        "labels = []\n",
        "image_container = []\n",
        "for folder_name in os.listdir(BASE_BATH):\n",
        "  folder_path = os.path.join(BASE_BATH , folder_name)\n",
        "  counter = 0\n",
        "  for image_name in os.listdir(folder_path):\n",
        "    counter += 1\n",
        "    if counter ==3:\n",
        "      image_path = os.path.join(folder_path , image_name)\n",
        "      image = cv2.imread(image_path)\n",
        "      image = cv2.resize(image, (96, 96))\n",
        "      image = image.astype(\"float\") / 255.0\n",
        "      image_container.append(image)\n",
        "      labels.append(mapper[folder_name])\n",
        "      counter = 0\n"
      ],
      "execution_count": 0,
      "outputs": []
    },
    {
      "cell_type": "code",
      "metadata": {
        "id": "yMd_780d_Z-o",
        "colab_type": "code",
        "outputId": "9da743bf-a768-47a2-f936-9acbd5aff2bf",
        "colab": {
          "base_uri": "https://localhost:8080/",
          "height": 34
        }
      },
      "source": [
        "import numpy as np\n",
        "from keras.utils import np_utils\n",
        "np.random.seed(42)\n",
        "image_container = np.array(image_container,dtype=np.float32)\n",
        "image_container.reshape(len(image_container), 96, 96 , 3)\n",
        "train_labels = np.array(labels,dtype=np.uint8)\n"
      ],
      "execution_count": 0,
      "outputs": [
        {
          "output_type": "stream",
          "text": [
            "Using TensorFlow backend.\n"
          ],
          "name": "stderr"
        }
      ]
    },
    {
      "cell_type": "code",
      "metadata": {
        "id": "XmgzXP8fD3GM",
        "colab_type": "code",
        "colab": {}
      },
      "source": [
        "from sklearn.model_selection import train_test_split\n",
        "X_train, X_test, y_train, y_test = train_test_split(image_container, train_labels, test_size=0.1, shuffle=True)"
      ],
      "execution_count": 0,
      "outputs": []
    },
    {
      "cell_type": "code",
      "metadata": {
        "id": "WktwS4mIEIwd",
        "colab_type": "code",
        "colab": {}
      },
      "source": [
        "Y_train = np_utils.to_categorical(y_train, 6)\n",
        "Y_test = np_utils.to_categorical(y_test, 6)"
      ],
      "execution_count": 0,
      "outputs": []
    },
    {
      "cell_type": "code",
      "metadata": {
        "id": "uDsLdo4o_9jN",
        "colab_type": "code",
        "colab": {}
      },
      "source": [
        "from keras.models import Sequential\n",
        "from keras.layers import Dense, Dropout, Activation, Flatten\n",
        "from keras.layers import Convolution2D, MaxPooling2D\n",
        "\n",
        "#creat cnn model\n",
        "model = Sequential()\n",
        "#add first conv layer\n",
        "model.add(Convolution2D(32, (3, 3), activation='relu',  padding=\"same\",\n",
        "                 input_shape=(96,96,3)))\n",
        "model.add(MaxPooling2D(pool_size=(2, 2), strides=(2, 2)))\n",
        "model.add(Convolution2D(64, (5, 5), activation='relu'))\n",
        "model.add(MaxPooling2D(pool_size=(2, 2)))\n",
        "model.add(Flatten())\n",
        "model.add(Dense(1000, activation='relu'))\n",
        "model.add(Dense(6, activation='softmax'))\n"
      ],
      "execution_count": 0,
      "outputs": []
    },
    {
      "cell_type": "code",
      "metadata": {
        "id": "xr5deOGYGy7u",
        "colab_type": "code",
        "colab": {}
      },
      "source": [
        "from keras.metrics import categorical_accuracy\n",
        "from keras.optimizers import Adam, Adadelta\n",
        "model.compile(Adadelta(lr=0.2, decay=0.0001),loss=\"categorical_crossentropy\", metrics=[\"accuracy\"])"
      ],
      "execution_count": 0,
      "outputs": []
    },
    {
      "cell_type": "code",
      "metadata": {
        "id": "PT1L9x-eHVxJ",
        "colab_type": "code",
        "outputId": "c8e02cf4-f903-45ba-8434-5b73dcbc693f",
        "colab": {
          "base_uri": "https://localhost:8080/",
          "height": 445
        }
      },
      "source": [
        "\n",
        "model.fit(X_train, Y_train,validation_data=(X_test,Y_test) , batch_size=32, nb_epoch=10, verbose=1)"
      ],
      "execution_count": 0,
      "outputs": [
        {
          "output_type": "stream",
          "text": [
            "/usr/local/lib/python3.6/dist-packages/ipykernel_launcher.py:2: UserWarning: The `nb_epoch` argument in `fit` has been renamed `epochs`.\n",
            "  \n"
          ],
          "name": "stderr"
        },
        {
          "output_type": "stream",
          "text": [
            "Train on 9736 samples, validate on 1082 samples\n",
            "Epoch 1/10\n",
            "9736/9736 [==============================] - 350s 36ms/step - loss: 0.0620 - accuracy: 0.9798 - val_loss: 4.8389e-04 - val_accuracy: 1.0000\n",
            "Epoch 2/10\n",
            "9736/9736 [==============================] - 348s 36ms/step - loss: 1.9506e-04 - accuracy: 1.0000 - val_loss: 8.3411e-05 - val_accuracy: 1.0000\n",
            "Epoch 3/10\n",
            "9736/9736 [==============================] - 346s 36ms/step - loss: 5.5276e-05 - accuracy: 1.0000 - val_loss: 4.2979e-05 - val_accuracy: 1.0000\n",
            "Epoch 4/10\n",
            "9736/9736 [==============================] - 347s 36ms/step - loss: 3.1075e-05 - accuracy: 1.0000 - val_loss: 2.7150e-05 - val_accuracy: 1.0000\n",
            "Epoch 5/10\n",
            "9736/9736 [==============================] - 346s 36ms/step - loss: 2.1425e-05 - accuracy: 1.0000 - val_loss: 1.9759e-05 - val_accuracy: 1.0000\n",
            "Epoch 6/10\n",
            "9736/9736 [==============================] - 347s 36ms/step - loss: 1.6351e-05 - accuracy: 1.0000 - val_loss: 1.5287e-05 - val_accuracy: 1.0000\n",
            "Epoch 7/10\n",
            "9736/9736 [==============================] - 346s 36ms/step - loss: 1.3159e-05 - accuracy: 1.0000 - val_loss: 1.2692e-05 - val_accuracy: 1.0000\n",
            "Epoch 8/10\n",
            "9736/9736 [==============================] - 348s 36ms/step - loss: 1.1067e-05 - accuracy: 1.0000 - val_loss: 1.1057e-05 - val_accuracy: 1.0000\n",
            "Epoch 9/10\n",
            "9736/9736 [==============================] - 345s 35ms/step - loss: 9.5536e-06 - accuracy: 1.0000 - val_loss: 9.4809e-06 - val_accuracy: 1.0000\n",
            "Epoch 10/10\n",
            "9736/9736 [==============================] - 347s 36ms/step - loss: 8.4171e-06 - accuracy: 1.0000 - val_loss: 8.3999e-06 - val_accuracy: 1.0000\n"
          ],
          "name": "stdout"
        },
        {
          "output_type": "execute_result",
          "data": {
            "text/plain": [
              "<keras.callbacks.callbacks.History at 0x7f7ff6684e10>"
            ]
          },
          "metadata": {
            "tags": []
          },
          "execution_count": 11
        }
      ]
    },
    {
      "cell_type": "code",
      "metadata": {
        "id": "SVjXhBuMs-bW",
        "colab_type": "code",
        "colab": {}
      },
      "source": [
        "model.save(\"flow_identification_model.h5\")"
      ],
      "execution_count": 0,
      "outputs": []
    },
    {
      "cell_type": "code",
      "metadata": {
        "id": "-8OEkqIqrsq7",
        "colab_type": "code",
        "colab": {}
      },
      "source": [
        "!cp -r flow_identification_model.h5 drive/My\\ Drive/flow_identification_model.h5 \n"
      ],
      "execution_count": 0,
      "outputs": []
    }
  ]
}